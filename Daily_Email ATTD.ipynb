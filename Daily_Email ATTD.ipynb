{
 "cells": [
  {
   "cell_type": "code",
   "execution_count": null,
   "id": "cad7cd49",
   "metadata": {},
   "outputs": [],
   "source": [
    "# pip install pywin32 \n",
    "import win32com.client as win32\n",
    "import os\n",
    "import datetime\n",
    "import pythoncom"
   ]
  },
  {
   "cell_type": "code",
   "execution_count": 8,
   "id": "2efbb054",
   "metadata": {},
   "outputs": [
    {
     "name": "stdout",
     "output_type": "stream",
     "text": [
      "Attachment added successfully\n",
      "Email sent successfully to mohamedsayed@pos.com at 19:27:07\n",
      "Report date used: Apr 15, 2025 (adjusted from current date)\n",
      "Success\n"
     ]
    }
   ],
   "source": [
    "def get_adjusted_date():\n",
    "    current_date = datetime.datetime.now().date()\n",
    "    \n",
    "    if current_date.weekday() == 0:  \n",
    "        adjusted_date = current_date - datetime.timedelta(days=3)\n",
    "    else:\n",
    "        adjusted_date = current_date - datetime.timedelta(days=1)\n",
    "    \n",
    "    date_formats = {\n",
    "        'day': adjusted_date.strftime(\"%d\"),\n",
    "        'month': adjusted_date.strftime(\"%B\"),\n",
    "        'year': adjusted_date.strftime(\"%Y\"),\n",
    "        'date_column': adjusted_date.strftime(\"%m-%d-%Y\"),\n",
    "        'full_date': adjusted_date.strftime(\"%b %d, %Y\")\n",
    "    }\n",
    "    return adjusted_date, date_formats\n",
    "\n",
    "def send_daily_attendance_email():\n",
    "    try:\n",
    "        # Initialize COM\n",
    "        pythoncom.CoInitialize()\n",
    "        \n",
    "        # Get adjusted date\n",
    "        adjusted_date, date_formats = get_adjusted_date()\n",
    "        date_str = date_formats['full_date']\n",
    "        \n",
    "        # Outlook setup\n",
    "        outlook = win32.Dispatch('outlook.application')\n",
    "        mail = outlook.CreateItem(0)  \n",
    "        \n",
    "        recipient = \"mohamedsayed@pos.com\"\n",
    "        mail.Subject = f\"Daily Attendance Report For {date_str}\"\n",
    "        mail.To = recipient\n",
    "        \n",
    "        \n",
    "        dashboard_url = \"https://lookerstudio.google.com/reporting/f933de3d-33b7-46b1-9d60-afa70938cf51/page/p_hnjfehxdld\"\n",
    "        email_body = f\"\"\"<html>\n",
    "<head></head>\n",
    "<body>\n",
    "<p>Dear Team,</p>\n",
    "<p>Greetings,</p>\n",
    "<br>\n",
    "<p>Please Find the updated Attached Daily Reports</p>\n",
    "<ul>\n",
    "    <li>MTD {date_str}, Attendance Report</li>\n",
    "    <li><a href=\"{dashboard_url}\">Looker Studio Dashboard EGY POS Dashboard</a></li>\n",
    "</ul>\n",
    "<br>\n",
    "<p>Best Regards,</p>\n",
    "<p>DS Team</p>\n",
    "</body>\n",
    "</html>\"\"\"\n",
    "        mail.HTMLBody = email_body\n",
    "        \n",
    "        attachment_path = r\"E:\\2.reports\\Finger Print\\5-attendance_fingerprint\\attendance (covered).xlsx\"\n",
    "        if os.path.exists(attachment_path):\n",
    "            mail.Attachments.Add(attachment_path)\n",
    "            print(\"Attachment added successfully\")\n",
    "        else:\n",
    "            error_msg = f\"Error: File not found at {attachment_path}\"\n",
    "            print(error_msg)\n",
    "            return error_msg\n",
    "        \n",
    "        \n",
    "        mail.Send()\n",
    "        print(f\"Email sent successfully to {recipient} at {datetime.datetime.now().strftime('%H:%M:%S')}\")\n",
    "        print(f\"Report date used: {date_str} (adjusted from current date)\")\n",
    "        return \"Success\"\n",
    "        \n",
    "    except Exception as e:\n",
    "        error_msg = f\"Error sending email: {str(e)}\"\n",
    "        print(error_msg)\n",
    "        return error_msg\n",
    "    finally:\n",
    "        \n",
    "        pythoncom.CoUninitialize()\n",
    "\n",
    "if __name__ == \"__main__\":\n",
    "    result = send_daily_attendance_email()\n",
    "    print(result)"
   ]
  }
 ],
 "metadata": {
  "kernelspec": {
   "display_name": "Python 3",
   "language": "python",
   "name": "python3"
  },
  "language_info": {
   "codemirror_mode": {
    "name": "ipython",
    "version": 3
   },
   "file_extension": ".py",
   "mimetype": "text/x-python",
   "name": "python",
   "nbconvert_exporter": "python",
   "pygments_lexer": "ipython3",
   "version": "3.11.0rc2"
  }
 },
 "nbformat": 4,
 "nbformat_minor": 5
}
